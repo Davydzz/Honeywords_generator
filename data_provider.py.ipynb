{
 "cells": [
  {
   "cell_type": "code",
   "execution_count": null,
   "metadata": {},
   "outputs": [],
   "source": [
    "import codecs\n",
    "import os\n",
    "import collections\n",
    "import numpy as np\n",
    "\n",
    "\n",
    "class DataProvider:\n",
    "\n",
    "    def __init__(self, data_dir, batch_size, sequence_length):\n",
    "        self.batch_size = batch_size\n",
    "        self.sequence_length = sequence_length\n",
    "        with codecs.open(os.path.join(data_dir, \"input.txt\"), \"r\", encoding=\"utf-8\") as file:\n",
    "            data = file.read()\n",
    "        count_pairs = sorted(collections.Counter(data).items(), key=lambda x: -x[1])\n",
    "        self.pointer = 0\n",
    "        self.chars, _ = zip(*count_pairs)\n",
    "        self.vocabulary_size = len(self.chars)\n",
    "        self.vocabulary = dict(zip(self.chars, range(len(self.chars))))\n",
    "        self.tensor = np.array(list(map(self.vocabulary.get, data)))\n",
    "        self.batches_size = int(self.tensor.size / (self.batch_size * self.sequence_length))\n",
    "        if self.batches_size == 0:\n",
    "            assert False, \"Unable to generate batches. Reduce batch_size or sequence_length.\"\n",
    "\n",
    "        self.tensor = self.tensor[:self.batches_size * self.batch_size * self.sequence_length]\n",
    "        inputs = self.tensor\n",
    "        targets = np.copy(self.tensor)\n",
    "\n",
    "        targets[:-1] = inputs[1:]\n",
    "        targets[-1] = inputs[0]\n",
    "        self.input_batches = np.split(inputs.reshape(self.batch_size, -1), self.batches_size, 1)\n",
    "        self.target_batches = np.split(targets.reshape(self.batch_size, -1), self.batches_size, 1)\n",
    "        print \"Tensor size: \" + str(self.tensor.size)\n",
    "        print \"Batch size: \" + str(self.batch_size)\n",
    "        print \"Sequence length: \" + str(self.sequence_length)\n",
    "        print \"Batches size: \" + str(self.batches_size)\n",
    "        print \"\"\n",
    "\n",
    "    def next_batch(self):\n",
    "        inputs = self.input_batches[self.pointer]\n",
    "        targets = self.target_batches[self.pointer]\n",
    "        self.pointer += 1\n",
    "        return inputs, targets\n",
    "\n",
    "    def reset_batch_pointer(self):\n",
    "        self.pointer = 0"
   ]
  }
 ],
 "metadata": {
  "kernelspec": {
   "display_name": "Python 3",
   "language": "python",
   "name": "python3"
  },
  "language_info": {
   "codemirror_mode": {
    "name": "ipython",
    "version": 3
   },
   "file_extension": ".py",
   "mimetype": "text/x-python",
   "name": "python",
   "nbconvert_exporter": "python",
   "pygments_lexer": "ipython3",
   "version": "3.7.3"
  }
 },
 "nbformat": 4,
 "nbformat_minor": 2
}
